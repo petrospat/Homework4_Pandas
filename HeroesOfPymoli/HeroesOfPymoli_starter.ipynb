{
 "cells": [
  {
   "cell_type": "markdown",
   "metadata": {},
   "source": [
    "### Heroes Of Pymoli Data Analysis\n",
    "* Of the 1163 active players, the vast majority are male (84%). There also exists, a smaller, but notable proportion of female players (14%).\n",
    "\n",
    "* Our peak age demographic falls between 20-24 (44.8%) with secondary groups falling between 15-19 (18.60%) and 25-29 (13.4%).  \n",
    "-----"
   ]
  },
  {
   "cell_type": "markdown",
   "metadata": {},
   "source": [
    "### Note\n",
    "* Instructions have been included for each segment. You do not have to follow them exactly, but they are included to help you think through the steps."
   ]
  },
  {
   "cell_type": "code",
   "execution_count": null,
   "metadata": {},
   "outputs": [],
   "source": [
    "# Dependencies and Setup\n",
    "import pandas as pd\n",
    "import numpy as np\n",
    "import collections\n",
    "\n",
    "# File to Load (Remember to Change These)\n",
    "file_to_load = \"./Resources/purchase_data.csv\"\n",
    "\n",
    "# Read Purchasing File and store into Pandas data frame\n",
    "df = pd.read_csv(file_to_load)\n",
    "pd.options.display.float_format = '${:,.2f}'.format\n",
    "\n",
    "df.head()"
   ]
  },
  {
   "cell_type": "markdown",
   "metadata": {},
   "source": [
    "## Player Count"
   ]
  },
  {
   "cell_type": "markdown",
   "metadata": {},
   "source": [
    "* Display the total number of players\n"
   ]
  },
  {
   "cell_type": "code",
   "execution_count": null,
   "metadata": {},
   "outputs": [],
   "source": [
    "# Calculate the number of unique players in the DataFrame\n",
    "lst_players = len(df[\"SN\"].unique())\n",
    "lst_players"
   ]
  },
  {
   "cell_type": "markdown",
   "metadata": {},
   "source": [
    "## Purchasing Analysis (Total)"
   ]
  },
  {
   "cell_type": "markdown",
   "metadata": {},
   "source": [
    "* Run basic calculations to obtain number of unique items, average price, etc.\n",
    "\n",
    "\n",
    "* Create a summary data frame to hold the results\n",
    "\n",
    "\n",
    "* Optional: give the displayed data cleaner formatting\n",
    "\n",
    "\n",
    "* Display the summary data frame\n"
   ]
  },
  {
   "cell_type": "code",
   "execution_count": null,
   "metadata": {},
   "outputs": [],
   "source": [
    "#Format with panda options : pd.options.display.float_format = '${:,.2f}'.format\n",
    "\n",
    "tot_item = len(df[\"Item ID\"].unique())\n",
    "avg_price = round(df[\"Price\"].mean(),2)\n",
    "purch_num = len(df[\"Purchase ID\"])\n",
    "total_rev = df[\"Price\"].sum()\n",
    "\n",
    "summary_table = pd.DataFrame({\"Number of unique items\": [tot_item],\n",
    "                              \"Average Price\":'${:,.2f}'.format(avg_price),\n",
    "                              \"Number of Purchases\" :[purch_num],\n",
    "                              \"Total Revenue\":'${:,.2f}'.format(total_rev)})\n",
    "summary_table"
   ]
  },
  {
   "cell_type": "markdown",
   "metadata": {},
   "source": [
    "## Gender Demographics"
   ]
  },
  {
   "cell_type": "markdown",
   "metadata": {},
   "source": [
    "* Percentage and Count of Male Players\n",
    "\n",
    "\n",
    "* Percentage and Count of Female Players\n",
    "\n",
    "\n",
    "* Percentage and Count of Other / Non-Disclosed\n",
    "\n",
    "\n"
   ]
  },
  {
   "cell_type": "code",
   "execution_count": null,
   "metadata": {
    "scrolled": false
   },
   "outputs": [],
   "source": [
    "#drop_duplicates for users with multiple purchases. We want to have unique users\n",
    "df_unique = df.drop_duplicates(\"SN\")\n",
    "df_unique\n",
    "\n",
    "#Creating individual columns for Male/Female/Other categories\n",
    "\n",
    "male_perc = len(df_unique.loc[(df_unique[\"Gender\"]== \"Male\")])/len(df_unique[\"Purchase ID\"])\n",
    "male_count = (df_unique[\"Gender\"]== \"Male\").sum()\n",
    "#print('{:,.2f}%'.format(100*male_perc), male_count)\n",
    "\n",
    "fem_perc = len(df_unique.loc[(df_unique[\"Gender\"]== \"Female\")])/len(df_unique[\"Purchase ID\"])\n",
    "fem_count = (df_unique[\"Gender\"]== \"Female\").sum()\n",
    "#print('{:,.2f}%'.format(100*fem_perc), fem_count)\n",
    "\n",
    "oth_perc = len(df_unique.loc[(df_unique[\"Gender\"]!= \"Male\") & (df_unique[\"Gender\"]!= \"Female\")])/len(df_unique[\"Purchase ID\"])\n",
    "oth_count = ((df_unique[\"Gender\"]!= \"Male\") & (df_unique[\"Gender\"]!= \"Female\")).sum()\n",
    "#print('{:,.2f}%'.format(100*oth_perc), oth_count)\n",
    "\n",
    "\n",
    "data = {'Gender':['Female','Male','Other / Non-Disclosed'],\n",
    "        'Total Count':[fem_count,male_count,oth_count],\n",
    "       'Percentage of Players':['{:,.2f}%'.format(fem_perc*100), '{:,.2f}%'.format(male_perc*100), '{:,.2f}%'.format(oth_perc*100)]\n",
    "       }\n",
    "df_test =pd.DataFrame(data)\n",
    "\n",
    "df_test"
   ]
  },
  {
   "cell_type": "markdown",
   "metadata": {},
   "source": [
    "\n",
    "## Purchasing Analysis (Gender)"
   ]
  },
  {
   "cell_type": "markdown",
   "metadata": {},
   "source": [
    "* Run basic calculations to obtain purchase count, avg. purchase price, avg. purchase total per person etc. by gender\n",
    "\n",
    "\n",
    "\n",
    "\n",
    "* Create a summary data frame to hold the results\n",
    "\n",
    "\n",
    "* Optional: give the displayed data cleaner formatting\n",
    "\n",
    "\n",
    "* Display the summary data frame"
   ]
  },
  {
   "cell_type": "code",
   "execution_count": null,
   "metadata": {
    "scrolled": true
   },
   "outputs": [],
   "source": [
    "#Groupby Gender\n",
    "df_new = df.groupby([\"Gender\"], sort=True, as_index=False).count()\n",
    "df_new = df_new.drop(columns = ['SN','Age','Item ID','Item Name','Price'])\n",
    "\n",
    "df_new.rename(columns={'Purchase ID':'Purchase Count'}) \n",
    "#Conitnue building dataframe df_new\n",
    "\n",
    "\n",
    "df1 = df.groupby(['Gender']).agg({'Purchase ID':'count',\n",
    "                                  'Price':['mean','sum',],\n",
    "                                 })\n",
    "\n",
    "#Join multiindex column names with '_'\n",
    "df1.columns = df1.columns.map('_'.join)\n",
    "\n",
    "#Merge columns\n",
    "dfm = pd.merge(df1, df_test, left_on = 'Gender', right_on = 'Gender')\n",
    "\n",
    "#Calculate new column/ Results are stored in a new column\n",
    "dfm['Result'] = dfm['Price_sum']/dfm['Total Count']\n",
    "#Drop redundant columns\n",
    "dfm = dfm.drop(['Total Count', 'Percentage of Players'], axis=1)\n",
    "\n",
    "dfm =dfm.rename(columns= {'Purchase ID_count':'Purchase Count', \n",
    "                     'Price_mean':'Average Purchase Price', \n",
    "                     'Price_sum':'Total Purchase Value', \n",
    "                     'Result': 'Avg Total Purchase per Person'} )\n",
    "dfm\n",
    "\n"
   ]
  },
  {
   "cell_type": "markdown",
   "metadata": {},
   "source": [
    "## Age Demographics"
   ]
  },
  {
   "cell_type": "markdown",
   "metadata": {},
   "source": [
    "* Establish bins for ages\n",
    "\n",
    "\n",
    "* Categorize the existing players using the age bins. Hint: use pd.cut()\n",
    "\n",
    "\n",
    "* Calculate the numbers and percentages by age group\n",
    "\n",
    "\n",
    "* Create a summary data frame to hold the results\n",
    "\n",
    "\n",
    "* Optional: round the percentage column to two decimal points\n",
    "\n",
    "\n",
    "* Display Age Demographics Table\n"
   ]
  },
  {
   "cell_type": "code",
   "execution_count": null,
   "metadata": {},
   "outputs": [],
   "source": [
    "#Create bins\n",
    "bins = [0,10,15,20,25,30,35,40,150]\n",
    "group_names = ['<10','10-14','15-19','20-24','25-29','30-34','35-39','40+']\n",
    "\n",
    "#Groupby unique purchases table. We need that for the last column 'Avg Purchase per Person' and 'Percentage of Players'\n",
    "df_unique[\"Age Group\"] = pd.cut(df_unique[\"Age\"], bins,right=False, labels=group_names)\n",
    "df_unique = df_unique.groupby(['Age Group']).agg({'Purchase ID':'count',\n",
    "                                                  'Price':['mean','sum']\n",
    "                                                  })\n",
    "#Prepearing Age Demographics dataframe/ Converting float2string and minimize decimal. Use round() \n",
    "df_unique['Percentage of Players']= df_unique['Purchase ID']/len(df[\"SN\"].unique())\n",
    "df_unique['Percentage of Players'] = (df_unique['Percentage of Players'] * 100).round(2).astype(str) + '%'\n",
    "\n",
    "df_unique"
   ]
  },
  {
   "cell_type": "markdown",
   "metadata": {},
   "source": [
    "## Purchasing Analysis (Age)"
   ]
  },
  {
   "cell_type": "markdown",
   "metadata": {},
   "source": [
    "* Bin the purchase_data data frame by age\n",
    "\n",
    "\n",
    "* Run basic calculations to obtain purchase count, avg. purchase price, avg. purchase total per person etc. in the table below\n",
    "\n",
    "\n",
    "* Create a summary data frame to hold the results\n",
    "\n",
    "\n",
    "* Optional: give the displayed data cleaner formatting\n",
    "\n",
    "\n",
    "* Display the summary data frame"
   ]
  },
  {
   "cell_type": "code",
   "execution_count": null,
   "metadata": {},
   "outputs": [],
   "source": [
    "#Purchase Analysis by Age. Some parts are used from the previous 'Age Demographics' part\n",
    "\n",
    "df_age = df\n",
    "\n",
    "#Groupby Age\n",
    "df_age[\"Age Group\"] = pd.cut(df[\"Age\"], bins,right=False, labels=group_names)\n",
    "df_age = df_age.groupby(['Age Group']).agg({'Purchase ID':'count',\n",
    "                'Price':['mean','sum']\n",
    "                  })\n",
    "\n",
    "df_unique.columns\n",
    "df_age = pd.concat([df_age, df_unique[['Purchase ID']]], axis=1)\n",
    "\n",
    "\n",
    "#Column calculation and joining\n",
    "df_age.columns = df_age.columns.map('_'.join)\n",
    "df_age.columns = ['Purchase Count', 'Average Purchase Price','Total Purchase Value', 'Unique Purchase per Person']\n",
    "df_age.columns\n",
    "df_age['Avg Total Purchase per Person'] = df_age['Total Purchase Value']/df_age['Unique Purchase per Person']\n",
    "del df_age['Unique Purchase per Person']\n",
    "df_age\n"
   ]
  },
  {
   "cell_type": "markdown",
   "metadata": {},
   "source": [
    "## Top Spenders"
   ]
  },
  {
   "cell_type": "markdown",
   "metadata": {},
   "source": [
    "* Run basic calculations to obtain the results in the table below\n",
    "\n",
    "\n",
    "* Create a summary data frame to hold the results\n",
    "\n",
    "\n",
    "* Sort the total purchase value column in descending order\n",
    "\n",
    "\n",
    "* Optional: give the displayed data cleaner formatting\n",
    "\n",
    "\n",
    "* Display a preview of the summary data frame\n",
    "\n"
   ]
  },
  {
   "cell_type": "code",
   "execution_count": null,
   "metadata": {},
   "outputs": [],
   "source": [
    "#Top Spenders\n",
    "df_sn = df\n",
    "df_sn = df_sn.groupby(['SN']).agg({'Purchase ID':'count',\n",
    "                'Price':['mean','sum']\n",
    "                  })\n",
    "df_sn.columns = df_sn.columns.map('_'.join)\n",
    "df_sn.nlargest(5,'Price_sum')\n"
   ]
  },
  {
   "cell_type": "markdown",
   "metadata": {},
   "source": [
    "## Most Popular Items"
   ]
  },
  {
   "cell_type": "markdown",
   "metadata": {},
   "source": [
    "* Retrieve the Item ID, Item Name, and Item Price columns\n",
    "\n",
    "\n",
    "* Group by Item ID and Item Name. Perform calculations to obtain purchase count, item price, and total purchase value\n",
    "\n",
    "\n",
    "* Create a summary data frame to hold the results\n",
    "\n",
    "\n",
    "* Sort the purchase count column in descending order\n",
    "\n",
    "\n",
    "* Optional: give the displayed data cleaner formatting\n",
    "\n",
    "\n",
    "* Display a preview of the summary data frame\n",
    "\n"
   ]
  },
  {
   "cell_type": "code",
   "execution_count": null,
   "metadata": {},
   "outputs": [],
   "source": [
    "#Most Popular items\n",
    "df_pop = df\n",
    "df_pop = df_pop.groupby(['Item ID', 'Item Name']).agg({'Purchase ID':'count',\n",
    "                'Price':['mean','sum']\n",
    "                  })\n",
    "df_pop.columns = df_pop.columns.map('_'.join)\n",
    "\n",
    "df_pop.nlargest(5,'Purchase ID_count')"
   ]
  },
  {
   "cell_type": "markdown",
   "metadata": {},
   "source": [
    "## Most Profitable Items"
   ]
  },
  {
   "cell_type": "markdown",
   "metadata": {},
   "source": [
    "* Sort the above table by total purchase value in descending order\n",
    "\n",
    "\n",
    "* Optional: give the displayed data cleaner formatting\n",
    "\n",
    "\n",
    "* Display a preview of the data frame\n",
    "\n"
   ]
  },
  {
   "cell_type": "code",
   "execution_count": null,
   "metadata": {
    "scrolled": true
   },
   "outputs": [],
   "source": [
    "#Most Profitable Items\n",
    "df_pop.nlargest(5,'Price_sum')"
   ]
  },
  {
   "cell_type": "code",
   "execution_count": null,
   "metadata": {},
   "outputs": [],
   "source": []
  }
 ],
 "metadata": {
  "anaconda-cloud": {},
  "kernel_info": {
   "name": "python3"
  },
  "kernelspec": {
   "display_name": "Python 3",
   "language": "python",
   "name": "python3"
  },
  "language_info": {
   "codemirror_mode": {
    "name": "ipython",
    "version": 3
   },
   "file_extension": ".py",
   "mimetype": "text/x-python",
   "name": "python",
   "nbconvert_exporter": "python",
   "pygments_lexer": "ipython3",
   "version": "3.7.0"
  },
  "nteract": {
   "version": "0.2.0"
  }
 },
 "nbformat": 4,
 "nbformat_minor": 2
}
